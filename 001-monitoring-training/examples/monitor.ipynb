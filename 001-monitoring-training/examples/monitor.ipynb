{
 "cells": [
  {
   "cell_type": "code",
   "execution_count": null,
   "outputs": [],
   "source": [
    "import os\n",
    "import sys\n",
    "sys.path.insert(1, os.path.dirname(os.path.abspath('')))\n",
    "import datetime \n",
    "from IPython.display import display, Markdown\n",
    "import common.monitor"
   ],
   "metadata": {
    "collapsed": false,
    "pycharm": {
     "name": "#%%\n"
    }
   }
  },
  {
   "cell_type": "code",
   "execution_count": null,
   "outputs": [],
   "source": [
    "log_dir = 'checkpoints/logs'\n",
    "logs = os.listdir(log_dir)\n",
    "logs.sort(key=lambda date: datetime.datetime.strptime(date, \"%d%m%y%H%M%S\"))\n",
    "for log in logs:\n",
    "    print('%s: %s.%s.%s %s:%s:%s' % (\n",
    "        log,\n",
    "        log[0:2],\n",
    "        log[2:4],\n",
    "        log[4:6],\n",
    "        log[6:8],\n",
    "        log[8:10],\n",
    "        log[10:12],\n",
    "    ))"
   ],
   "metadata": {
    "collapsed": false,
    "pycharm": {
     "name": "#%%\n"
    }
   }
  },
  {
   "cell_type": "code",
   "execution_count": null,
   "outputs": [],
   "source": [
    "log_sub_dir = log_dir + '/' + logs[-1]\n",
    "analyzer = common.monitor.AltairTensorBoardAnalytics(log_sub_dir)\n",
    "analyzer.load()\n",
    "#print(analyzer.tags())"
   ],
   "metadata": {
    "collapsed": false,
    "pycharm": {
     "name": "#%%\n"
    }
   }
  },
  {
   "cell_type": "code",
   "execution_count": null,
   "outputs": [],
   "source": [
    "display(Markdown('**Training loss**'))\n",
    "analyzer.render_scalar('train/loss', levels=10)"
   ],
   "metadata": {
    "collapsed": false,
    "pycharm": {
     "name": "#%%\n"
    }
   }
  },
  {
   "cell_type": "code",
   "execution_count": null,
   "outputs": [],
   "source": [
    "display(Markdown('**Training error**'))\n",
    "analyzer.render_scalar('train/error', levels=10)"
   ],
   "metadata": {
    "collapsed": false,
    "pycharm": {
     "name": "#%%\n"
    }
   }
  },
  {
   "cell_type": "code",
   "execution_count": null,
   "outputs": [],
   "source": [
    "display(Markdown('**Test loss**'))\n",
    "analyzer.render_scalar('test/loss', levels=10)"
   ],
   "metadata": {
    "collapsed": false,
    "pycharm": {
     "name": "#%%\n"
    }
   }
  },
  {
   "cell_type": "code",
   "execution_count": null,
   "outputs": [],
   "source": [
    "display(Markdown('**Test error**'))\n",
    "analyzer.render_scalar('test/error', levels=10)"
   ],
   "metadata": {
    "collapsed": false,
    "pycharm": {
     "name": "#%%\n"
    }
   }
  },
  {
   "cell_type": "code",
   "execution_count": null,
   "outputs": [],
   "source": [
    "i = 0\n",
    "tags = []\n",
    "tag = 'train/weight/%d' % i\n",
    "while tag in analyzer.tags()['scalars']:\n",
    "    tags.append(tag)\n",
    "    i += 1\n",
    "    tag = 'train/weight/%d' % i"
   ],
   "metadata": {
    "collapsed": false,
    "pycharm": {
     "name": "#%%\n"
    }
   }
  },
  {
   "cell_type": "code",
   "execution_count": null,
   "outputs": [],
   "source": [
    "display(Markdown('**Mean absolute weight per layer**'))\n",
    "analyzer.render_scalar_multiple(tags)"
   ],
   "metadata": {
    "collapsed": false,
    "pycharm": {
     "name": "#%%\n"
    }
   }
  },
  {
   "cell_type": "code",
   "execution_count": null,
   "outputs": [],
   "source": [
    "i = 0\n",
    "tags = []\n",
    "tag = 'train/forward_weight/%d' % i\n",
    "while tag in analyzer.tags()['scalars']:\n",
    "    tags.append(tag)\n",
    "    i += 1\n",
    "    tag = 'train/forward_weight/%d' % i"
   ],
   "metadata": {
    "collapsed": false,
    "pycharm": {
     "name": "#%%\n"
    }
   }
  },
  {
   "cell_type": "code",
   "execution_count": null,
   "outputs": [],
   "source": [
    "display(Markdown('**Mean absolute forward weight per layer**'))\n",
    "analyzer.render_scalar_multiple(tags)"
   ],
   "metadata": {
    "collapsed": false,
    "pycharm": {
     "name": "#%%\n"
    }
   }
  },
  {
   "cell_type": "code",
   "execution_count": null,
   "outputs": [],
   "source": [
    "i = 0\n",
    "tags = []\n",
    "tag = 'train/gradient/%d' % i\n",
    "while tag in analyzer.tags()['scalars']:\n",
    "    tags.append(tag)\n",
    "    i += 1\n",
    "    tag = 'train/gradient/%d' % i"
   ],
   "metadata": {
    "collapsed": false,
    "pycharm": {
     "name": "#%%\n"
    }
   }
  }
 ],
 "metadata": {
  "kernelspec": {
   "display_name": "Python 3",
   "language": "python",
   "name": "python3"
  },
  "language_info": {
   "codemirror_mode": {
    "name": "ipython",
    "version": 3
   },
   "file_extension": ".py",
   "mimetype": "text/x-python",
   "name": "python",
   "nbconvert_exporter": "python",
   "pygments_lexer": "ipython3",
   "version": "3.5.3"
  }
 },
 "nbformat": 4,
 "nbformat_minor": 2
}